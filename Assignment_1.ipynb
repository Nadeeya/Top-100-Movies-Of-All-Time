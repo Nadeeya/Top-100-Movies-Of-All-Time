{
 "cells": [
  {
   "cell_type": "markdown",
   "id": "apparent-hazard",
   "metadata": {},
   "source": [
    "## ASSIGNMENT 1"
   ]
  },
  {
   "cell_type": "code",
   "execution_count": 260,
   "id": "parliamentary-webster",
   "metadata": {},
   "outputs": [],
   "source": [
    "import pandas as pd"
   ]
  },
  {
   "cell_type": "code",
   "execution_count": 261,
   "id": "fewer-nickel",
   "metadata": {},
   "outputs": [],
   "source": [
    "filename = './data/Top 100 Movies of All Time - Rotten Tomatoes.html'"
   ]
  },
  {
   "cell_type": "code",
   "execution_count": 262,
   "id": "informative-italic",
   "metadata": {},
   "outputs": [],
   "source": [
    "from bs4 import BeautifulSoup"
   ]
  },
  {
   "cell_type": "code",
   "execution_count": 263,
   "id": "timely-ethics",
   "metadata": {},
   "outputs": [],
   "source": [
    "with open(filename, 'rb') as fp:\n",
    "    soup = BeautifulSoup(fp, 'html.parser')"
   ]
  },
  {
   "cell_type": "code",
   "execution_count": 269,
   "id": "gentle-annotation",
   "metadata": {
    "scrolled": true
   },
   "outputs": [],
   "source": [
    "name = soup.find('table',{'class':\"table\"})\n",
    "movies= name.findAll('a')\n",
    "ratings = name.findAll('span',{'class':\"tMeterScore\"})\n",
    "ranks = name.findAll('td',{'class':\"bold\"})\n",
    "reviews = name.findAll('td',{'class':\"right hidden-xs\"})\n",
    "\n",
    "movie_list=[]\n",
    "rating_list=[]\n",
    "rank_list=[]\n",
    "review_list=[]\n",
    "\n",
    "for movie in movies:\n",
    "    movie_list.append(movie.contents[0][2:])\n",
    "    \n",
    "for rating in ratings:\n",
    "    rating_list.append(rating.contents[0])\n",
    "    \n",
    "for rank in ranks:\n",
    "    rank_list.append(rank.contents[0])\n",
    "    \n",
    "for review in reviews:\n",
    "    review_list.append(review.contents[0])"
   ]
  },
  {
   "cell_type": "code",
   "execution_count": 270,
   "id": "dominant-instruction",
   "metadata": {
    "scrolled": true
   },
   "outputs": [
    {
     "name": "stdout",
     "output_type": "stream",
     "text": [
      "Rotten Tomatoes top 100 movies:\n"
     ]
    },
    {
     "data": {
      "text/html": [
       "<div>\n",
       "<style scoped>\n",
       "    .dataframe tbody tr th:only-of-type {\n",
       "        vertical-align: middle;\n",
       "    }\n",
       "\n",
       "    .dataframe tbody tr th {\n",
       "        vertical-align: top;\n",
       "    }\n",
       "\n",
       "    .dataframe thead th {\n",
       "        text-align: right;\n",
       "    }\n",
       "</style>\n",
       "<table border=\"1\" class=\"dataframe\">\n",
       "  <thead>\n",
       "    <tr style=\"text-align: right;\">\n",
       "      <th></th>\n",
       "      <th>ratings</th>\n",
       "      <th>movie name</th>\n",
       "      <th>number of reviews</th>\n",
       "    </tr>\n",
       "  </thead>\n",
       "  <tbody>\n",
       "    <tr>\n",
       "      <th>1.</th>\n",
       "      <td>96%</td>\n",
       "      <td>Black Panther (2018)</td>\n",
       "      <td>518</td>\n",
       "    </tr>\n",
       "    <tr>\n",
       "      <th>2.</th>\n",
       "      <td>98%</td>\n",
       "      <td>Parasite (Gisaengchung) (2019)</td>\n",
       "      <td>457</td>\n",
       "    </tr>\n",
       "    <tr>\n",
       "      <th>3.</th>\n",
       "      <td>94%</td>\n",
       "      <td>Avengers: Endgame (2019)</td>\n",
       "      <td>537</td>\n",
       "    </tr>\n",
       "    <tr>\n",
       "      <th>4.</th>\n",
       "      <td>97%</td>\n",
       "      <td>Knives Out (2019)</td>\n",
       "      <td>460</td>\n",
       "    </tr>\n",
       "    <tr>\n",
       "      <th>5.</th>\n",
       "      <td>93%</td>\n",
       "      <td>Us (2019)</td>\n",
       "      <td>542</td>\n",
       "    </tr>\n",
       "    <tr>\n",
       "      <th>...</th>\n",
       "      <td>...</td>\n",
       "      <td>...</td>\n",
       "      <td>...</td>\n",
       "    </tr>\n",
       "    <tr>\n",
       "      <th>96.</th>\n",
       "      <td>98%</td>\n",
       "      <td>Jaws (1975)</td>\n",
       "      <td>90</td>\n",
       "    </tr>\n",
       "    <tr>\n",
       "      <th>97.</th>\n",
       "      <td>98%</td>\n",
       "      <td>Up (2009)</td>\n",
       "      <td>298</td>\n",
       "    </tr>\n",
       "    <tr>\n",
       "      <th>98.</th>\n",
       "      <td>98%</td>\n",
       "      <td>The Bride of Frankenstein (1935)</td>\n",
       "      <td>47</td>\n",
       "    </tr>\n",
       "    <tr>\n",
       "      <th>99.</th>\n",
       "      <td>98%</td>\n",
       "      <td>The Godfather, Part II (1974)</td>\n",
       "      <td>85</td>\n",
       "    </tr>\n",
       "    <tr>\n",
       "      <th>100.</th>\n",
       "      <td>97%</td>\n",
       "      <td>Won't You Be My Neighbor? (2018)</td>\n",
       "      <td>252</td>\n",
       "    </tr>\n",
       "  </tbody>\n",
       "</table>\n",
       "<p>100 rows × 3 columns</p>\n",
       "</div>"
      ],
      "text/plain": [
       "     ratings                                   movie name number of reviews\n",
       "1.       96%                         Black Panther (2018)               518\n",
       "2.       98%               Parasite (Gisaengchung) (2019)               457\n",
       "3.       94%                     Avengers: Endgame (2019)               537\n",
       "4.       97%                            Knives Out (2019)               460\n",
       "5.       93%                                    Us (2019)               542\n",
       "...      ...                                          ...               ...\n",
       "96.      98%                                  Jaws (1975)                90\n",
       "97.      98%                                    Up (2009)               298\n",
       "98.      98%             The Bride of Frankenstein (1935)                47\n",
       "99.      98%                The Godfather, Part II (1974)                85\n",
       "100.     97%             Won't You Be My Neighbor? (2018)               252\n",
       "\n",
       "[100 rows x 3 columns]"
      ]
     },
     "metadata": {},
     "output_type": "display_data"
    }
   ],
   "source": [
    "df = pd.DataFrame({'ratings': rating_list,\n",
    "                   'movie name': movie_list,\n",
    "                  'number of reviews': review_list}, index=rank_list)\n",
    "print('Rotten Tomatoes top 100 movies:')\n",
    "display(df)"
   ]
  },
  {
   "cell_type": "code",
   "execution_count": null,
   "id": "modern-emergency",
   "metadata": {},
   "outputs": [],
   "source": []
  },
  {
   "cell_type": "code",
   "execution_count": null,
   "id": "furnished-indie",
   "metadata": {},
   "outputs": [],
   "source": []
  }
 ],
 "metadata": {
  "kernelspec": {
   "display_name": "Python 3",
   "language": "python",
   "name": "python3"
  },
  "language_info": {
   "codemirror_mode": {
    "name": "ipython",
    "version": 3
   },
   "file_extension": ".py",
   "mimetype": "text/x-python",
   "name": "python",
   "nbconvert_exporter": "python",
   "pygments_lexer": "ipython3",
   "version": "3.9.1"
  }
 },
 "nbformat": 4,
 "nbformat_minor": 5
}
